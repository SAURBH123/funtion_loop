{
 "cells": [
  {
   "cell_type": "code",
   "execution_count": 2,
   "id": "d632fb20-5b77-403f-b0d3-2fbf64aec80d",
   "metadata": {},
   "outputs": [
    {
     "data": {
      "text/plain": [
       "[1, 3, 5, 7, 9, 11, 13, 15, 17, 19, 21, 23, 25]"
      ]
     },
     "execution_count": 2,
     "metadata": {},
     "output_type": "execute_result"
    }
   ],
   "source": [
    "# Q1 def keyword is used to create a function\n",
    "\n",
    "def odd_number(a):\n",
    "    b=[]\n",
    "    for i in range(1,a+1):\n",
    "        if(i%2!=0):\n",
    "            b.append(i)\n",
    "    return b\n",
    "odd_number(25)"
   ]
  },
  {
   "cell_type": "code",
   "execution_count": 5,
   "id": "0cc9ad3e-f3a4-4422-8a86-415ec2d9311f",
   "metadata": {},
   "outputs": [
    {
     "name": "stdout",
     "output_type": "stream",
     "text": [
      "(1, 2, 3, 4, 5, [1, 2, 3, 4, 5], 'saurabh')\n"
     ]
    },
    {
     "data": {
      "text/plain": [
       "{'a': 4, 'b': 'saurabh', 'c': 'mayank'}"
      ]
     },
     "execution_count": 5,
     "metadata": {},
     "output_type": "execute_result"
    }
   ],
   "source": [
    "# Q2\n",
    "# *args is used to take any number of input inside function basically how many values of any data type as input it return same number of values as output return in form of tuple\n",
    "# **kwargs  it is used to generate dictionary from function \n",
    "\n",
    "def argus(*args):\n",
    "    return args\n",
    "print(argus(1,2,3,4,5,[1,2,3,4,5],'saurabh'))\n",
    "\n",
    "\n",
    "\n",
    "\n",
    "\n",
    "def kwargus(**kwargs):\n",
    "    return kwargs\n",
    "kwargus(a=4,b='saurabh',c='mayank')\n"
   ]
  },
  {
   "cell_type": "code",
   "execution_count": 6,
   "id": "8465cf26-fabe-4a14-990d-d4d4f0855b92",
   "metadata": {},
   "outputs": [
    {
     "name": "stdout",
     "output_type": "stream",
     "text": [
      "2\n",
      "4\n",
      "6\n",
      "8\n",
      "10\n"
     ]
    }
   ],
   "source": [
    "# Q3 iterator is basically use to execute a block of code for specific number of times\n",
    "# while loop we use for initialise object\n",
    "a=[2, 4, 6, 8, 10, 12, 14,16,18,20]\n",
    "# printing first 5 elements of the list using while loop\n",
    "i=0\n",
    "while(i<5):\n",
    "    print(a[i])\n",
    "    i=i+1\n"
   ]
  },
  {
   "cell_type": "code",
   "execution_count": 8,
   "id": "c00206ef-4959-456c-b726-4cf4ae31beca",
   "metadata": {},
   "outputs": [
    {
     "name": "stdout",
     "output_type": "stream",
     "text": [
      "0\n",
      "1\n",
      "1\n",
      "2\n",
      "3\n",
      "5\n",
      "8\n",
      "13\n",
      "21\n",
      "34\n"
     ]
    }
   ],
   "source": [
    "# Q6\n",
    "a,b=0,1\n",
    "counter=1\n",
    "while(counter<=10):\n",
    "    print(a)\n",
    "    c=a+b\n",
    "    a=b\n",
    "    b=c\n",
    "    counter=counter+1\n"
   ]
  },
  {
   "cell_type": "code",
   "execution_count": 10,
   "id": "b1a2fb2d-9421-4d8f-afd1-5468e62fe4ca",
   "metadata": {},
   "outputs": [
    {
     "data": {
      "text/plain": [
       "['p', 'w', 's', 'k', 'i', 'l', 'l', 's']"
      ]
     },
     "execution_count": 10,
     "metadata": {},
     "output_type": "execute_result"
    }
   ],
   "source": [
    "# Q7 \n",
    "\n",
    "[i for i in \"pwskills\" ]"
   ]
  },
  {
   "cell_type": "code",
   "execution_count": 13,
   "id": "4a90679d-f477-493c-83c3-8400aa651b01",
   "metadata": {},
   "outputs": [
    {
     "name": "stdout",
     "output_type": "stream",
     "text": [
      "[1, 3, 5, 7, 9, 11, 13, 15, 17, 19, 21, 23, 25, 27, 29, 31, 33, 35, 37, 39, 41, 43, 45, 47, 49, 51, 53, 55, 57, 59, 61, 63, 65, 67, 69, 71, 73, 75, 77, 79, 81, 83, 85, 87, 89, 91, 93, 95, 97, 99]\n"
     ]
    }
   ],
   "source": [
    "# Q9\n",
    "a=[i for i in range(0,101) if(i%2!=0)]\n",
    "print(a)"
   ]
  },
  {
   "cell_type": "code",
   "execution_count": 7,
   "id": "7697a949-2633-4051-bc5b-f67382fda0f6",
   "metadata": {},
   "outputs": [
    {
     "name": "stdin",
     "output_type": "stream",
     "text": [
      "enter the number you want to check for palindrome 1221\n"
     ]
    },
    {
     "name": "stdout",
     "output_type": "stream",
     "text": [
      "1221\n",
      "the given number is palindrome\n"
     ]
    }
   ],
   "source": [
    "# Q8\n",
    "num=int(input('enter the number you want to check for palindrome'))\n",
    "reverse_num=0\n",
    "numm=num\n",
    "while(num>0):\n",
    "    b=num%10\n",
    "    reverse_num=reverse_num*10+b\n",
    "    num=num//10\n",
    "print(reverse_num)\n",
    "if(numm == reverse_num):\n",
    "    print('the given number is palindrome')\n",
    "else:\n",
    "    print('no number is not palindrome')\n",
    "    \n",
    "    "
   ]
  },
  {
   "cell_type": "code",
   "execution_count": 10,
   "id": "9354eeae-411a-4d3d-9288-fbd8500c87ea",
   "metadata": {},
   "outputs": [
    {
     "name": "stdout",
     "output_type": "stream",
     "text": [
      "2\n",
      "3\n",
      "5\n",
      "7\n",
      "11\n",
      "13\n",
      "17\n",
      "19\n",
      "23\n",
      "29\n",
      "31\n",
      "37\n",
      "41\n",
      "43\n",
      "47\n",
      "53\n",
      "59\n",
      "61\n",
      "67\n",
      "71\n"
     ]
    }
   ],
   "source": [
    "# Q5 \n",
    "def primes():\n",
    "    num = 2\n",
    "    while num < 1000:\n",
    "        for i in range(2, num):\n",
    "            if num % i == 0:\n",
    "                break\n",
    "        else:\n",
    "            yield num\n",
    "        num += 1\n",
    "primes_generator = primes()\n",
    "for i in range(20):\n",
    "    print(next(primes_generator))"
   ]
  },
  {
   "cell_type": "code",
   "execution_count": 13,
   "id": "13ee2098-b869-4b89-81ba-f0c513333d30",
   "metadata": {},
   "outputs": [
    {
     "name": "stdout",
     "output_type": "stream",
     "text": [
      "0\n",
      "1\n",
      "2\n",
      "3\n",
      "4\n",
      "5\n",
      "6\n",
      "7\n",
      "8\n",
      "9\n",
      "10\n",
      "11\n",
      "12\n",
      "13\n",
      "14\n",
      "15\n",
      "16\n",
      "17\n",
      "18\n",
      "19\n"
     ]
    }
   ],
   "source": [
    "# Q4\n",
    "def num(a):\n",
    "    for i in range(a):\n",
    "        yield i\n",
    "b=num(20)\n",
    "for j in b:\n",
    "    print(j)\n",
    "# it is used for  memory consumption  optimization\n",
    "# yield store that value it does not store the whole list that basically memory oprimisation"
   ]
  },
  {
   "cell_type": "code",
   "execution_count": 26,
   "id": "f0bae67e-8cd7-4d1a-bc80-186c19412472",
   "metadata": {},
   "outputs": [
    {
     "name": "stdin",
     "output_type": "stream",
     "text": [
      "enter the number from user: 16\n"
     ]
    },
    {
     "name": "stdout",
     "output_type": "stream",
     "text": [
      "number is not prime\n"
     ]
    }
   ],
   "source": [
    "l1=[]\n",
    "b=0\n",
    "num=int(input('enter the number from user:'))\n",
    "for i in range(2,num):\n",
    "    if (num%i==0):\n",
    "        break\n",
    "    else:\n",
    "        b=b+1\n",
    "if(b==num-2):\n",
    "    print('numner is prime')\n",
    "else:\n",
    "    print('number is not prime')\n",
    "        \n"
   ]
  },
  {
   "cell_type": "code",
   "execution_count": 31,
   "id": "f1d0ff3b-82ee-426c-9dfd-376002eac704",
   "metadata": {},
   "outputs": [
    {
     "name": "stdin",
     "output_type": "stream",
     "text": [
      " 5\n"
     ]
    },
    {
     "ename": "SyntaxError",
     "evalue": "'break' outside loop (2173484015.py, line 3)",
     "output_type": "error",
     "traceback": [
      "\u001b[0;36m  Cell \u001b[0;32mIn[31], line 3\u001b[0;36m\u001b[0m\n\u001b[0;31m    break\u001b[0m\n\u001b[0m    ^\u001b[0m\n\u001b[0;31mSyntaxError\u001b[0m\u001b[0;31m:\u001b[0m 'break' outside loop\n"
     ]
    }
   ],
   "source": [
    "a=int(input())\n",
    "if(a>4):\n",
    "    \n",
    "    break\n",
    "else:\n",
    "    print(a)\n",
    "print(a)"
   ]
  }
 ],
 "metadata": {
  "kernelspec": {
   "display_name": "Python 3 (ipykernel)",
   "language": "python",
   "name": "python3"
  },
  "language_info": {
   "codemirror_mode": {
    "name": "ipython",
    "version": 3
   },
   "file_extension": ".py",
   "mimetype": "text/x-python",
   "name": "python",
   "nbconvert_exporter": "python",
   "pygments_lexer": "ipython3",
   "version": "3.10.8"
  }
 },
 "nbformat": 4,
 "nbformat_minor": 5
}
